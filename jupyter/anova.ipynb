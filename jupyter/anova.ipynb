{
 "cells": [
  {
   "cell_type": "code",
   "execution_count": 2,
   "metadata": {
    "collapsed": true
   },
   "outputs": [],
   "source": [
    "import pandas as pd\n",
    "import numpy as np"
   ]
  },
  {
   "cell_type": "code",
   "execution_count": 10,
   "outputs": [
    {
     "data": {
      "text/plain": "    CPU  Memory  DataParallelism     ResponseTime\n0  4000    4000                3     [55, 56, 57]\n1  4000    4000                1     [97, 99, 99]\n2  4000     500                3     [62, 59, 62]\n3  4000     500                1   [103, 100, 98]\n4   500    4000                3  [490, 459, 451]\n5   500    4000                1  [900, 907, 902]\n6   500     500                3  [472, 465, 452]\n7   500     500                1  [962, 954, 943]",
      "text/html": "<div>\n<style scoped>\n    .dataframe tbody tr th:only-of-type {\n        vertical-align: middle;\n    }\n\n    .dataframe tbody tr th {\n        vertical-align: top;\n    }\n\n    .dataframe thead th {\n        text-align: right;\n    }\n</style>\n<table border=\"1\" class=\"dataframe\">\n  <thead>\n    <tr style=\"text-align: right;\">\n      <th></th>\n      <th>CPU</th>\n      <th>Memory</th>\n      <th>DataParallelism</th>\n      <th>ResponseTime</th>\n    </tr>\n  </thead>\n  <tbody>\n    <tr>\n      <th>0</th>\n      <td>4000</td>\n      <td>4000</td>\n      <td>3</td>\n      <td>[55, 56, 57]</td>\n    </tr>\n    <tr>\n      <th>1</th>\n      <td>4000</td>\n      <td>4000</td>\n      <td>1</td>\n      <td>[97, 99, 99]</td>\n    </tr>\n    <tr>\n      <th>2</th>\n      <td>4000</td>\n      <td>500</td>\n      <td>3</td>\n      <td>[62, 59, 62]</td>\n    </tr>\n    <tr>\n      <th>3</th>\n      <td>4000</td>\n      <td>500</td>\n      <td>1</td>\n      <td>[103, 100, 98]</td>\n    </tr>\n    <tr>\n      <th>4</th>\n      <td>500</td>\n      <td>4000</td>\n      <td>3</td>\n      <td>[490, 459, 451]</td>\n    </tr>\n    <tr>\n      <th>5</th>\n      <td>500</td>\n      <td>4000</td>\n      <td>1</td>\n      <td>[900, 907, 902]</td>\n    </tr>\n    <tr>\n      <th>6</th>\n      <td>500</td>\n      <td>500</td>\n      <td>3</td>\n      <td>[472, 465, 452]</td>\n    </tr>\n    <tr>\n      <th>7</th>\n      <td>500</td>\n      <td>500</td>\n      <td>1</td>\n      <td>[962, 954, 943]</td>\n    </tr>\n  </tbody>\n</table>\n</div>"
     },
     "execution_count": 10,
     "metadata": {},
     "output_type": "execute_result"
    }
   ],
   "source": [
    "experiment_data = {\n",
    "    \"CPU\": [*np.repeat(4000, 4), *np.repeat(500, 4)],\n",
    "    \"Memory\": [*np.repeat(4000, 2), *np.repeat(500, 2), *np.repeat(4000, 2), *np.repeat(500, 2)],\n",
    "    \"DataParallelism\": [3, 1, 3, 1, 3, 1, 3, 1],\n",
    "    \"ResponseTime\": [\n",
    "        [55, 56, 57],\n",
    "        [97, 99, 99],\n",
    "        [62, 59, 62],\n",
    "        [103, 100, 98],\n",
    "        [490, 459, 451],\n",
    "        [900, 907, 902],\n",
    "        [472, 465, 452],\n",
    "        [962, 954, 943],\n",
    "    ],\n",
    "}\n",
    "\n",
    "df = pd.DataFrame(experiment_data)\n",
    "df"
   ],
   "metadata": {
    "collapsed": false
   }
  },
  {
   "cell_type": "code",
   "execution_count": null,
   "outputs": [],
   "source": [],
   "metadata": {
    "collapsed": false
   }
  }
 ],
 "metadata": {
  "kernelspec": {
   "display_name": "Python 3",
   "language": "python",
   "name": "python3"
  },
  "language_info": {
   "codemirror_mode": {
    "name": "ipython",
    "version": 2
   },
   "file_extension": ".py",
   "mimetype": "text/x-python",
   "name": "python",
   "nbconvert_exporter": "python",
   "pygments_lexer": "ipython2",
   "version": "2.7.6"
  }
 },
 "nbformat": 4,
 "nbformat_minor": 0
}
